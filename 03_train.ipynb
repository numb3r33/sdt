{
 "cells": [
  {
   "cell_type": "markdown",
   "metadata": {},
   "source": [
    "# Training Loop\n",
    "\n",
    "Use fastai to implement the training loop for training a Soft Decision Tree"
   ]
  },
  {
   "cell_type": "code",
   "execution_count": null,
   "metadata": {},
   "outputs": [],
   "source": [
    "# default_exp train"
   ]
  },
  {
   "cell_type": "code",
   "execution_count": null,
   "metadata": {},
   "outputs": [
    {
     "name": "stdout",
     "output_type": "stream",
     "text": [
      "\u001b[K     |████████████████████████████████| 727kB 21.9MB/s \n",
      "\u001b[K     |████████████████████████████████| 1.1MB 52.4MB/s \n",
      "\u001b[K     |████████████████████████████████| 51kB 9.0MB/s \n",
      "\u001b[K     |████████████████████████████████| 194kB 56.9MB/s \n",
      "\u001b[K     |████████████████████████████████| 61kB 10.2MB/s \n",
      "\u001b[?25h"
     ]
    }
   ],
   "source": [
    "#hide\n",
    "IN_COLAB = 'google.colab' in str(get_ipython())\n",
    "if IN_COLAB:\n",
    "  !pip3 install -Uqq fastbook"
   ]
  },
  {
   "cell_type": "code",
   "execution_count": null,
   "metadata": {},
   "outputs": [
    {
     "name": "stdout",
     "output_type": "stream",
     "text": [
      "Drive already mounted at /content/drive; to attempt to forcibly remount, call drive.mount(\"/content/drive\", force_remount=True).\n"
     ]
    }
   ],
   "source": [
    "#hide\n",
    "if IN_COLAB:\n",
    "  from google.colab import drive\n",
    "  drive.mount('/content/drive')"
   ]
  },
  {
   "cell_type": "code",
   "execution_count": null,
   "metadata": {},
   "outputs": [
    {
     "name": "stdout",
     "output_type": "stream",
     "text": [
      "/content/drive/My Drive/Colab Notebooks/github/sdt\n",
      "/content/drive/My Drive/Colab Notebooks/github/sdt\n"
     ]
    }
   ],
   "source": [
    "#hide\n",
    "if IN_COLAB:\n",
    "  from pathlib import Path\n",
    "  from nbdev.imports import Config\n",
    "  project_path = Path('/content/drive/My Drive/Colab Notebooks/github/sdt')\n",
    "  get_ipython().magic(f'cd {project_path}')\n",
    "  get_ipython().magic(f'cd {Config().nbs_path}')"
   ]
  },
  {
   "cell_type": "code",
   "execution_count": null,
   "metadata": {},
   "outputs": [],
   "source": [
    "#hide\n",
    "from nbdev.showdoc import *"
   ]
  },
  {
   "cell_type": "code",
   "execution_count": null,
   "metadata": {},
   "outputs": [],
   "source": [
    "#export\n",
    "from fastai.vision.all import *\n",
    "\n",
    "from sdt.data  import *\n",
    "from sdt.model import *\n",
    "from sdt.loss  import *"
   ]
  },
  {
   "cell_type": "markdown",
   "metadata": {},
   "source": [
    "## Train"
   ]
  },
  {
   "cell_type": "code",
   "execution_count": null,
   "metadata": {},
   "outputs": [],
   "source": [
    "#export\n",
    "class SDTCallback(Callback):\n",
    "  run_before=Recorder\n",
    "\n",
    "  def __init__(self, tree, n_leaves, prob=1.):\n",
    "    self.tree     = tree\n",
    "    self.n_leaves = n_leaves\n",
    "    self.prob     = prob\n",
    "  \n",
    "  def after_pred(self):\n",
    "    self.learn.path_prob, self.learn.pred = self.pred\n",
    "    self.learn.loss_func.set_path_prob(self.path_prob)\n",
    "    self.learn.loss_func.set_regularizer(self.learn.model.get_numers,\n",
    "                                    self.learn.model.get_denoms\n",
    "                                    )\n",
    "    self.learn.model.reset()\n",
    "\n",
    "  def after_loss(self):\n",
    "    path_prob, outs = self.path_prob, self.pred\n",
    "    target_indices  = path_prob.argmax(dim=1)\n",
    "    max_path_prob   = outs[torch.arange(outs.shape[0]), target_indices]\n",
    "    pred_target     = max_path_prob.argmax(dim=1)\n",
    "\n",
    "    self.learn.pred = pred_target"
   ]
  },
  {
   "cell_type": "markdown",
   "metadata": {},
   "source": [
    ""
   ]
  },
  {
   "cell_type": "code",
   "execution_count": null,
   "metadata": {},
   "outputs": [
    {
     "data": {
      "text/html": [
       ""
      ],
      "text/plain": [
       "<IPython.core.display.HTML object>"
      ]
     },
     "metadata": {
      "tags": []
     },
     "output_type": "display_data"
    }
   ],
   "source": [
    "#ignore\n",
    "path = untar_data(URLs.MNIST)\n",
    "dls  = get_dls(path, bs=128)"
   ]
  },
  {
   "cell_type": "code",
   "execution_count": null,
   "metadata": {},
   "outputs": [],
   "source": [
    "#ignore\n",
    "current_depth = 0\n",
    "depth = 4\n",
    "\n",
    "tree      = Tree(input_dim=784, output_dim=10)\n",
    "n_leaves  = 2 ** depth\n",
    "n_classes = 10\n",
    "n_epochs  = 40\n",
    "\n",
    "tree = sdt_init(current_depth , depth, tree, input_dim=784, output_dim=n_classes)\n",
    "\n",
    "# SDT\n",
    "sdt       = SDT(tree=tree, n_leaves=n_leaves, n_classes=n_classes)\n",
    "criterion = SDTLoss(lambda_=0.05)"
   ]
  },
  {
   "cell_type": "code",
   "execution_count": null,
   "metadata": {},
   "outputs": [],
   "source": [
    "#ignore\n",
    "learn = Learner(dls, \n",
    "                sdt, \n",
    "                loss_func=criterion, \n",
    "                opt_func=partial(SGD, lr=.2, mom=0.9), \n",
    "                cbs=SDTCallback(tree, n_leaves), \n",
    "                metrics=partial(accuracy_multi, sigmoid=False))"
   ]
  },
  {
   "cell_type": "code",
   "execution_count": null,
   "metadata": {},
   "outputs": [
    {
     "data": {
      "text/html": [
       ""
      ],
      "text/plain": [
       "<IPython.core.display.HTML object>"
      ]
     },
     "metadata": {
      "tags": []
     },
     "output_type": "display_data"
    },
    {
     "data": {
      "text/plain": [
       "SuggestedLRs(lr_min=0.2290867567062378, lr_steep=1.9054607152938843)"
      ]
     },
     "execution_count": null,
     "metadata": {
      "tags": []
     },
     "output_type": "execute_result"
    },
    {
     "data": {
      "image/png": "[encoded data removed]",
      "text/plain": [
       "<Figure size 432x288 with 1 Axes>"
      ]
     },
     "metadata": {
      "needs_background": "light",
      "tags": []
     },
     "output_type": "display_data"
    }
   ],
   "source": [
    "#ignore\n",
    "learn.lr_find()"
   ]
  },
  {
   "cell_type": "code",
   "execution_count": null,
   "metadata": {},
   "outputs": [
    {
     "data": {
      "text/html": [
       "<table border=\"1\" class=\"dataframe\">\n",
       "  <thead>\n",
       "    <tr style=\"text-align: left;\">\n",
       "      <th>epoch</th>\n",
       "      <th>train_loss</th>\n",
       "      <th>valid_loss</th>\n",
       "      <th>accuracy_multi</th>\n",
       "      <th>time</th>\n",
       "    </tr>\n",
       "  </thead>\n",
       "  <tbody>\n",
       "    <tr>\n",
       "      <td>0</td>\n",
       "      <td>2.744646</td>\n",
       "      <td>2.727949</td>\n",
       "      <td>0.412857</td>\n",
       "      <td>01:02</td>\n",
       "    </tr>\n",
       "    <tr>\n",
       "      <td>1</td>\n",
       "      <td>2.586069</td>\n",
       "      <td>2.566797</td>\n",
       "      <td>0.486786</td>\n",
       "      <td>01:00</td>\n",
       "    </tr>\n",
       "    <tr>\n",
       "      <td>2</td>\n",
       "      <td>2.419720</td>\n",
       "      <td>2.406863</td>\n",
       "      <td>0.563571</td>\n",
       "      <td>01:00</td>\n",
       "    </tr>\n",
       "    <tr>\n",
       "      <td>3</td>\n",
       "      <td>2.262096</td>\n",
       "      <td>2.251291</td>\n",
       "      <td>0.647500</td>\n",
       "      <td>00:59</td>\n",
       "    </tr>\n",
       "    <tr>\n",
       "      <td>4</td>\n",
       "      <td>2.115933</td>\n",
       "      <td>2.106572</td>\n",
       "      <td>0.900929</td>\n",
       "      <td>00:59</td>\n",
       "    </tr>\n",
       "    <tr>\n",
       "      <td>5</td>\n",
       "      <td>1.984815</td>\n",
       "      <td>1.982390</td>\n",
       "      <td>0.900929</td>\n",
       "      <td>01:00</td>\n",
       "    </tr>\n",
       "    <tr>\n",
       "      <td>6</td>\n",
       "      <td>1.875329</td>\n",
       "      <td>1.865374</td>\n",
       "      <td>0.900929</td>\n",
       "      <td>01:00</td>\n",
       "    </tr>\n",
       "    <tr>\n",
       "      <td>7</td>\n",
       "      <td>1.765059</td>\n",
       "      <td>1.767295</td>\n",
       "      <td>0.900929</td>\n",
       "      <td>01:00</td>\n",
       "    </tr>\n",
       "    <tr>\n",
       "      <td>8</td>\n",
       "      <td>1.680787</td>\n",
       "      <td>1.678935</td>\n",
       "      <td>0.900929</td>\n",
       "      <td>01:00</td>\n",
       "    </tr>\n",
       "    <tr>\n",
       "      <td>9</td>\n",
       "      <td>1.594556</td>\n",
       "      <td>1.595922</td>\n",
       "      <td>0.964714</td>\n",
       "      <td>01:01</td>\n",
       "    </tr>\n",
       "    <tr>\n",
       "      <td>10</td>\n",
       "      <td>1.520016</td>\n",
       "      <td>1.523228</td>\n",
       "      <td>0.972071</td>\n",
       "      <td>01:01</td>\n",
       "    </tr>\n",
       "    <tr>\n",
       "      <td>11</td>\n",
       "      <td>1.450436</td>\n",
       "      <td>1.457548</td>\n",
       "      <td>0.975500</td>\n",
       "      <td>01:00</td>\n",
       "    </tr>\n",
       "    <tr>\n",
       "      <td>12</td>\n",
       "      <td>1.390810</td>\n",
       "      <td>1.399150</td>\n",
       "      <td>0.976500</td>\n",
       "      <td>01:01</td>\n",
       "    </tr>\n",
       "    <tr>\n",
       "      <td>13</td>\n",
       "      <td>1.351468</td>\n",
       "      <td>1.347564</td>\n",
       "      <td>0.979571</td>\n",
       "      <td>01:02</td>\n",
       "    </tr>\n",
       "    <tr>\n",
       "      <td>14</td>\n",
       "      <td>1.291615</td>\n",
       "      <td>1.301679</td>\n",
       "      <td>0.981214</td>\n",
       "      <td>01:03</td>\n",
       "    </tr>\n",
       "    <tr>\n",
       "      <td>15</td>\n",
       "      <td>1.253197</td>\n",
       "      <td>1.260613</td>\n",
       "      <td>0.983286</td>\n",
       "      <td>01:03</td>\n",
       "    </tr>\n",
       "    <tr>\n",
       "      <td>16</td>\n",
       "      <td>1.217915</td>\n",
       "      <td>1.224071</td>\n",
       "      <td>0.983929</td>\n",
       "      <td>01:02</td>\n",
       "    </tr>\n",
       "    <tr>\n",
       "      <td>17</td>\n",
       "      <td>1.196233</td>\n",
       "      <td>1.192088</td>\n",
       "      <td>0.985214</td>\n",
       "      <td>01:02</td>\n",
       "    </tr>\n",
       "    <tr>\n",
       "      <td>18</td>\n",
       "      <td>1.151382</td>\n",
       "      <td>1.162994</td>\n",
       "      <td>0.985500</td>\n",
       "      <td>01:01</td>\n",
       "    </tr>\n",
       "    <tr>\n",
       "      <td>19</td>\n",
       "      <td>1.139570</td>\n",
       "      <td>1.137083</td>\n",
       "      <td>0.986714</td>\n",
       "      <td>01:02</td>\n",
       "    </tr>\n",
       "    <tr>\n",
       "      <td>20</td>\n",
       "      <td>1.110930</td>\n",
       "      <td>1.113441</td>\n",
       "      <td>0.987071</td>\n",
       "      <td>01:02</td>\n",
       "    </tr>\n",
       "    <tr>\n",
       "      <td>21</td>\n",
       "      <td>1.092913</td>\n",
       "      <td>1.093319</td>\n",
       "      <td>0.987643</td>\n",
       "      <td>01:03</td>\n",
       "    </tr>\n",
       "    <tr>\n",
       "      <td>22</td>\n",
       "      <td>1.068081</td>\n",
       "      <td>1.074348</td>\n",
       "      <td>0.987786</td>\n",
       "      <td>01:04</td>\n",
       "    </tr>\n",
       "    <tr>\n",
       "      <td>23</td>\n",
       "      <td>1.056288</td>\n",
       "      <td>1.057247</td>\n",
       "      <td>0.988357</td>\n",
       "      <td>01:04</td>\n",
       "    </tr>\n",
       "    <tr>\n",
       "      <td>24</td>\n",
       "      <td>1.036588</td>\n",
       "      <td>1.042490</td>\n",
       "      <td>0.988714</td>\n",
       "      <td>01:03</td>\n",
       "    </tr>\n",
       "    <tr>\n",
       "      <td>25</td>\n",
       "      <td>1.024690</td>\n",
       "      <td>1.029049</td>\n",
       "      <td>0.989286</td>\n",
       "      <td>01:03</td>\n",
       "    </tr>\n",
       "    <tr>\n",
       "      <td>26</td>\n",
       "      <td>1.009167</td>\n",
       "      <td>1.017687</td>\n",
       "      <td>0.989643</td>\n",
       "      <td>01:03</td>\n",
       "    </tr>\n",
       "    <tr>\n",
       "      <td>27</td>\n",
       "      <td>0.996261</td>\n",
       "      <td>1.006800</td>\n",
       "      <td>0.989500</td>\n",
       "      <td>01:03</td>\n",
       "    </tr>\n",
       "    <tr>\n",
       "      <td>28</td>\n",
       "      <td>0.995734</td>\n",
       "      <td>0.997781</td>\n",
       "      <td>0.989857</td>\n",
       "      <td>01:03</td>\n",
       "    </tr>\n",
       "    <tr>\n",
       "      <td>29</td>\n",
       "      <td>0.978979</td>\n",
       "      <td>0.989834</td>\n",
       "      <td>0.989929</td>\n",
       "      <td>01:03</td>\n",
       "    </tr>\n",
       "    <tr>\n",
       "      <td>30</td>\n",
       "      <td>0.974137</td>\n",
       "      <td>0.983485</td>\n",
       "      <td>0.990000</td>\n",
       "      <td>01:03</td>\n",
       "    </tr>\n",
       "    <tr>\n",
       "      <td>31</td>\n",
       "      <td>0.973329</td>\n",
       "      <td>0.977832</td>\n",
       "      <td>0.989786</td>\n",
       "      <td>01:04</td>\n",
       "    </tr>\n",
       "    <tr>\n",
       "      <td>32</td>\n",
       "      <td>0.962165</td>\n",
       "      <td>0.973473</td>\n",
       "      <td>0.989929</td>\n",
       "      <td>01:03</td>\n",
       "    </tr>\n",
       "    <tr>\n",
       "      <td>33</td>\n",
       "      <td>0.954955</td>\n",
       "      <td>0.969566</td>\n",
       "      <td>0.989929</td>\n",
       "      <td>01:04</td>\n",
       "    </tr>\n",
       "    <tr>\n",
       "      <td>34</td>\n",
       "      <td>0.958657</td>\n",
       "      <td>0.967000</td>\n",
       "      <td>0.990000</td>\n",
       "      <td>01:04</td>\n",
       "    </tr>\n",
       "    <tr>\n",
       "      <td>35</td>\n",
       "      <td>0.956606</td>\n",
       "      <td>0.965072</td>\n",
       "      <td>0.990143</td>\n",
       "      <td>01:04</td>\n",
       "    </tr>\n",
       "    <tr>\n",
       "      <td>36</td>\n",
       "      <td>0.950112</td>\n",
       "      <td>0.963918</td>\n",
       "      <td>0.990143</td>\n",
       "      <td>01:04</td>\n",
       "    </tr>\n",
       "    <tr>\n",
       "      <td>37</td>\n",
       "      <td>0.962439</td>\n",
       "      <td>0.963284</td>\n",
       "      <td>0.990214</td>\n",
       "      <td>01:04</td>\n",
       "    </tr>\n",
       "    <tr>\n",
       "      <td>38</td>\n",
       "      <td>0.949276</td>\n",
       "      <td>0.963048</td>\n",
       "      <td>0.990143</td>\n",
       "      <td>01:05</td>\n",
       "    </tr>\n",
       "    <tr>\n",
       "      <td>39</td>\n",
       "      <td>0.955457</td>\n",
       "      <td>0.963017</td>\n",
       "      <td>0.990143</td>\n",
       "      <td>01:05</td>\n",
       "    </tr>\n",
       "  </tbody>\n",
       "</table>"
      ],
      "text/plain": [
       "<IPython.core.display.HTML object>"
      ]
     },
     "metadata": {
      "tags": []
     },
     "output_type": "display_data"
    }
   ],
   "source": [
    "#ignore\n",
    "learn.fit_one_cycle(n_epoch=n_epochs)"
   ]
  },
  {
   "cell_type": "code",
   "execution_count": null,
   "metadata": {},
   "outputs": [],
   "source": [
    "#ignore\n",
    "learn.export()"
   ]
  },
  {
   "cell_type": "code",
   "execution_count": null,
   "metadata": {},
   "outputs": [
    {
     "data": {
      "image/png": "[encoded data removed]",
      "text/plain": [
       "<Figure size 720x720 with 32 Axes>"
      ]
     },
     "metadata": {
      "needs_background": "light",
      "tags": []
     },
     "output_type": "display_data"
    }
   ],
   "source": [
    "#ignore\n",
    "fig, ax = plt.subplots(4, 8, figsize=(10, 10))\n",
    "\n",
    "for name, p in learn.model.named_parameters():\n",
    "  if name == 'tree.fc.weight':\n",
    "    ax[0][0].imshow(p.view(28, 28).cpu().detach().numpy(), cmap='Greys')\n",
    "  if name == 'tree.left.fc.weight':\n",
    "    ax[1][0].imshow(p.view(28, 28).cpu().detach().numpy(), cmap='Greys')\n",
    "  if name == 'tree.right.fc.weight':\n",
    "    ax[1][4].imshow(p.view(28, 28).cpu().detach().numpy(), cmap='Greys')\n",
    "  if name == 'tree.left.left.fc.weight':\n",
    "    ax[2][0].imshow(p.view(28, 28).cpu().detach().numpy(), cmap='Greys')\n",
    "  if name == 'tree.left.right.fc.weight':\n",
    "    ax[2][2].imshow(p.view(28, 28).cpu().detach().numpy(), cmap='Greys')\n",
    "  if name == 'tree.right.left.fc.weight':\n",
    "    ax[2][4].imshow(p.view(28, 28).cpu().detach().numpy(), cmap='Greys')\n",
    "  if name == 'tree.right.right.fc.weight':\n",
    "    ax[2][6].imshow(p.view(28, 28).cpu().detach().numpy(), cmap='Greys')\n",
    "  if name == 'tree.left.left.left.fc.weight':\n",
    "    ax[3][0].imshow(p.view(28, 28).cpu().detach().numpy(), cmap='Greys')\n",
    "  if name == 'tree.left.left.right.fc.weight':\n",
    "    ax[3][1].imshow(p.view(28, 28).cpu().detach().numpy(), cmap='Greys')\n",
    "  if name == 'tree.left.right.left.fc.weight':\n",
    "    ax[3][2].imshow(p.view(28, 28).cpu().detach().numpy(), cmap='Greys')\n",
    "  if name == 'tree.left.right.right.fc.weight':\n",
    "    ax[3][3].imshow(p.view(28, 28).cpu().detach().numpy(), cmap='Greys')\n",
    "  if name == 'tree.right.left.left.fc.weight':\n",
    "    ax[3][4].imshow(p.view(28, 28).cpu().detach().numpy(), cmap='Greys')\n",
    "  if name == 'tree.right.left.right.fc.weight':\n",
    "    ax[3][5].imshow(p.view(28, 28).cpu().detach().numpy(), cmap='Greys')\n",
    "  if name == 'tree.right.right.left.fc.weight':\n",
    "    ax[3][6].imshow(p.view(28, 28).cpu().detach().numpy(), cmap='Greys')\n",
    "  if name == 'tree.right.right.right.fc.weight':\n",
    "    ax[3][7].imshow(p.view(28, 28).cpu().detach().numpy(), cmap='Greys')\n",
    "\n",
    "\n",
    "for i in range(0, 8):\n",
    "  if i > 0: ax[0][i].set_axis_off()\n",
    "  \n",
    "for i in range(0, 8):\n",
    "  if i not in [0, 4]: ax[1][i].set_axis_off()\n",
    "\n",
    "for i in range(0, 8):\n",
    "  if i not in [0, 2, 4, 6]: ax[2][i].set_axis_off()"
   ]
  },
  {
   "cell_type": "markdown",
   "metadata": {},
   "source": [
    "## Export"
   ]
  },
  {
   "cell_type": "code",
   "execution_count": null,
   "metadata": {},
   "outputs": [
    {
     "name": "stdout",
     "output_type": "stream",
     "text": [
      "Converted 00_data.ipynb.\n",
      "Converted 01_model.ipynb.\n",
      "Converted 02_loss.ipynb.\n",
      "Converted 03_train.ipynb.\n",
      "Converted index.ipynb.\n"
     ]
    }
   ],
   "source": [
    "#hide\n",
    "from nbdev.export import notebook2script\n",
    "notebook2script()"
   ]
  },
  {
   "cell_type": "code",
   "execution_count": null,
   "metadata": {},
   "outputs": [
    {
     "data": {
      "text/html": [
       ""
      ],
      "text/plain": [
       "<IPython.core.display.HTML object>"
      ]
     },
     "metadata": {
      "tags": []
     },
     "output_type": "display_data"
    },
    {
     "name": "stdout",
     "output_type": "stream",
     "text": [
      "converting: /content/drive/My Drive/Colab Notebooks/github/sdt/index.ipynb\n",
      "converting: /content/drive/My Drive/Colab Notebooks/github/sdt/02_loss.ipynb\n",
      "converting: /content/drive/My Drive/Colab Notebooks/github/sdt/01_model.ipynb\n",
      "converting: /content/drive/My Drive/Colab Notebooks/github/sdt/00_data.ipynb\n",
      "converting: /content/drive/My Drive/Colab Notebooks/github/sdt/03_train.ipynb\n",
      "converting /content/drive/My Drive/Colab Notebooks/github/sdt/index.ipynb to README.md\n"
     ]
    }
   ],
   "source": [
    "#ignore\n",
    "from nbdev.cli import nbdev_build_docs\n",
    "nbdev_build_docs()"
   ]
  },
  {
   "cell_type": "code",
   "execution_count": null,
   "metadata": {},
   "outputs": [
    {
     "data": {
      "text/html": [
       "\n",
       "    <div>\n",
       "        <style>\n",
       "            /* Turns off some styling */\n",
       "            progress {\n",
       "                /* gets rid of default border in Firefox and Opera. */\n",
       "                border: none;\n",
       "                /* Needs to be in here for Safari polyfill so background images work as expected. */\n",
       "                background-size: auto;\n",
       "            }\n",
       "            .progress-bar-interrupted, .progress-bar-interrupted::-webkit-progress-bar {\n",
       "                background: #F44336;\n",
       "            }\n",
       "        </style>\n",
       "      <progress value='2' class='' max='5' style='width:300px; height:20px; vertical-align: middle;'></progress>\n",
       "      40.00% [2/5 00:08<00:12]\n",
       "    </div>\n",
       "    "
      ],
      "text/plain": [
       "<IPython.core.display.HTML object>"
      ]
     },
     "metadata": {
      "tags": []
     },
     "output_type": "display_data"
    },
    {
     "name": "stdout",
     "output_type": "stream",
     "text": [
      "testing /content/drive/My Drive/Colab Notebooks/github/sdt/00_data.ipynb\n",
      "testing /content/drive/My Drive/Colab Notebooks/github/sdt/01_model.ipynb\n",
      "testing /content/drive/My Drive/Colab Notebooks/github/sdt/02_loss.ipynb\n",
      "testing /content/drive/My Drive/Colab Notebooks/github/sdt/03_train.ipynb\n"
     ]
    }
   ],
   "source": [
    "#ignore\n",
    "from nbdev.cli import nbdev_test_nbs\n",
    "nbdev_test_nbs()"
   ]
  },
  {
   "cell_type": "code",
   "execution_count": null,
   "metadata": {},
   "outputs": [
    {
     "name": "stdout",
     "output_type": "stream",
     "text": [
      "On branch main\n",
      "Your branch is up to date with 'origin/main'.\n",
      "\n",
      "Changes not staged for commit:\n",
      "  (use \"git add <file>...\" to update what will be committed)\n",
      "  (use \"git checkout -- <file>...\" to discard changes in working directory)\n",
      "\n",
      "\t\u001b[31mmodified:   README.md\u001b[m\n",
      "\t\u001b[31mmodified:   docs/_data/sidebars/home_sidebar.yml\u001b[m\n",
      "\t\u001b[31mmodified:   docs/data.html\u001b[m\n",
      "\t\u001b[31mmodified:   docs/index.html\u001b[m\n",
      "\t\u001b[31mmodified:   docs/loss.html\u001b[m\n",
      "\t\u001b[31mmodified:   docs/model.html\u001b[m\n",
      "\t\u001b[31mmodified:   docs/sidebar.json\u001b[m\n",
      "\t\u001b[31mmodified:   docs/train.html\u001b[m\n",
      "\t\u001b[31mmodified:   index.ipynb\u001b[m\n",
      "\n",
      "Untracked files:\n",
      "  (use \"git add <file>...\" to include in what will be committed)\n",
      "\n",
      "\t\u001b[31mdocs/images/learned_filters.png\u001b[m\n",
      "\t\u001b[31mdocs/images/loss.png\u001b[m\n",
      "\t\u001b[31mdocs/images/regularizer.png\u001b[m\n",
      "\t\u001b[31mdocs/images/training_loop.png\u001b[m\n",
      "\t\u001b[31mexport.pkl\u001b[m\n",
      "\n",
      "no changes added to commit (use \"git add\" and/or \"git commit -a\")\n"
     ]
    }
   ],
   "source": [
    "#ignore\n",
    "!git status"
   ]
  },
  {
   "cell_type": "code",
   "execution_count": null,
   "metadata": {},
   "outputs": [
    {
     "name": "stdout",
     "output_type": "stream",
     "text": [
      "[main e4b5c90] push docs\n",
      " 13 files changed, 298 insertions(+), 331 deletions(-)\n",
      " rewrite README.md (82%)\n",
      " create mode 100644 docs/images/learned_filters.png\n",
      " create mode 100644 docs/images/loss.png\n",
      " create mode 100644 docs/images/regularizer.png\n",
      " create mode 100644 docs/images/training_loop.png\n",
      " rewrite index.ipynb (100%)\n"
     ]
    }
   ],
   "source": [
    "#ignore\n",
    "!git add README.md docs/ index.ipynb; git config --global user.email 'abhicoders@gmail.com'; git config --global user.name 'numb3r33'; git commit -m 'push docs'"
   ]
  },
  {
   "cell_type": "code",
   "execution_count": null,
   "metadata": {},
   "outputs": [],
   "source": [
    "#ignore\n",
    "from nbdev.cli import nbdev_clean_nbs\n",
    "nbdev_clean_nbs()"
   ]
  },
  {
   "cell_type": "code",
   "execution_count": null,
   "metadata": {},
   "outputs": [
    {
     "name": "stdout",
     "output_type": "stream",
     "text": [
      "Executing: git config --local include.path ../.gitconfig\n",
      "Success: hooks are installed and repo's .gitconfig is now trusted\n"
     ]
    }
   ],
   "source": [
    "#ignore\n",
    "from nbdev.cli import nbdev_install_git_hooks\n",
    "nbdev_install_git_hooks()"
   ]
  },
  {
   "cell_type": "code",
   "execution_count": null,
   "metadata": {},
   "outputs": [
    {
     "name": "stdout",
     "output_type": "stream",
     "text": [
      "Counting objects: 15, done.\n",
      "Delta compression using up to 2 threads.\n",
      "Compressing objects:   7% (1/14)   \rCompressing objects:  14% (2/14)   \rCompressing objects:  21% (3/14)   \rCompressing objects:  28% (4/14)   \rCompressing objects:  35% (5/14)   \rCompressing objects:  42% (6/14)   \rCompressing objects:  50% (7/14)   \rCompressing objects:  57% (8/14)   \rCompressing objects:  64% (9/14)   \rCompressing objects:  71% (10/14)   \rCompressing objects:  78% (11/14)   \rCompressing objects:  85% (12/14)   \rCompressing objects:  92% (13/14)   \rCompressing objects: 100% (14/14)   \rCompressing objects: 100% (14/14), done.\n",
      "Writing objects:   6% (1/15)   \rWriting objects:  13% (2/15)   \rWriting objects:  20% (3/15)   \rWriting objects:  26% (4/15)   \rWriting objects:  33% (5/15)   \rWriting objects:  40% (6/15)   \rWriting objects:  46% (7/15)   \rWriting objects:  53% (8/15)   \rWriting objects:  60% (9/15)   \rWriting objects:  66% (10/15)   \rWriting objects:  73% (11/15)   \rWriting objects:  80% (12/15)   \rWriting objects:  86% (13/15)   \rWriting objects:  93% (14/15)   \rWriting objects: 100% (15/15)   \rWriting objects: 100% (15/15), 5.27 KiB | 675.00 KiB/s, done.\n",
      "Total 15 (delta 12), reused 0 (delta 0)\n",
      "remote: Resolving deltas: 100% (12/12), completed with 11 local objects.\u001b[K\n",
      "To https://github.com/numb3r33/sdt\n",
      "   57d78d1..e4b5c90  main -> main\n"
     ]
    }
   ],
   "source": [
    "#ignore\n",
    "!git push origin main"
   ]
  },
  {
   "cell_type": "code",
   "execution_count": null,
   "metadata": {},
   "outputs": [],
   "source": [
    ""
   ]
  }
 ],
 "metadata": {
  "kernelspec": {
   "display_name": "Python 3",
   "name": "python3"
  }
 },
 "nbformat": 4,
 "nbformat_minor": 0
}
