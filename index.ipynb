{
 "cells": [
  {
   "cell_type": "code",
   "execution_count": null,
   "metadata": {},
   "outputs": [
    {
     "name": "stdout",
     "output_type": "stream",
     "text": [
      "\u001b[K     |████████████████████████████████| 727kB 5.6MB/s \n",
      "\u001b[K     |████████████████████████████████| 194kB 15.0MB/s \n",
      "\u001b[K     |████████████████████████████████| 51kB 5.6MB/s \n",
      "\u001b[K     |████████████████████████████████| 1.1MB 13.9MB/s \n",
      "\u001b[K     |████████████████████████████████| 61kB 8.0MB/s \n",
      "\u001b[?25h"
     ]
    }
   ],
   "source": [
    "#hide\n",
    "IN_COLAB = 'google.colab' in str(get_ipython())\n",
    "if IN_COLAB:\n",
    "  !pip3 install -Uqq fastbook"
   ]
  },
  {
   "cell_type": "code",
   "execution_count": null,
   "metadata": {},
   "outputs": [
    {
     "name": "stdout",
     "output_type": "stream",
     "text": [
      "Drive already mounted at /content/drive; to attempt to forcibly remount, call drive.mount(\"/content/drive\", force_remount=True).\n"
     ]
    }
   ],
   "source": [
    "#hide\n",
    "if IN_COLAB:\n",
    "  from google.colab import drive\n",
    "  drive.mount('/content/drive')"
   ]
  },
  {
   "cell_type": "code",
   "execution_count": null,
   "metadata": {},
   "outputs": [
    {
     "name": "stdout",
     "output_type": "stream",
     "text": [
      "/content/drive/My Drive/Colab Notebooks/github/sdt\n",
      "/content/drive/My Drive/Colab Notebooks/github/sdt\n"
     ]
    }
   ],
   "source": [
    "#hide\n",
    "if IN_COLAB:\n",
    "  from pathlib import Path\n",
    "  from nbdev.imports import Config\n",
    "  project_path = Path('/content/drive/My Drive/Colab Notebooks/github/sdt')\n",
    "  get_ipython().magic(f'cd {project_path}')\n",
    "  get_ipython().magic(f'cd {Config().nbs_path}')"
   ]
  },
  {
   "cell_type": "code",
   "execution_count": null,
   "metadata": {},
   "outputs": [],
   "source": [
    "#hide\n",
    "from fastai.vision.all import *\n",
    "\n",
    "from sdt.data  import *\n",
    "from sdt.model import *\n",
    "from sdt.loss  import *"
   ]
  },
  {
   "cell_type": "markdown",
   "metadata": {},
   "source": [
    "# SDT\n",
    "\n",
    "This package is an implementation of the paper [Distilling a Neural Network Into a Soft Decision\n",
    "Tree](https://arxiv.org/pdf/1711.09784.pdf) by Nicholas Frosst, Geoffrey Hinton.\n"
   ]
  },
  {
   "cell_type": "markdown",
   "metadata": {},
   "source": [
    "**Abstract**\n",
    "Deep neural networks have proved to be a very effective\n",
    "way to perform classification tasks. But it is hard to explain why a learned network makes\n",
    "a particular classification decision on a particular test case. This is\n",
    "due to their reliance on distributed hierarchical representations. If we\n",
    "could take the knowledge acquired by the neural net and express the\n",
    "same knowledge in a model that relies on hierarchical decisions instead,\n",
    "explaining a particular decision would be much easier. We describe a way\n",
    "of using a trained neural net to create a type of soft decision tree that\n",
    "generalizes better than one learned directly from the training data."
   ]
  },
  {
   "cell_type": "markdown",
   "metadata": {},
   "source": [
    "## Install"
   ]
  },
  {
   "cell_type": "markdown",
   "metadata": {},
   "source": [
    "`pip install git+https://github.com/numb3r33/sdt.git`"
   ]
  },
  {
   "cell_type": "markdown",
   "metadata": {},
   "source": [
    "## How to use"
   ]
  },
  {
   "cell_type": "code",
   "execution_count": null,
   "metadata": {},
   "outputs": [],
   "source": [
    "#ignore\n",
    "path = untar_data(URLs.MNIST)\n",
    "dls  = get_dls(path, bs=128)"
   ]
  },
  {
   "cell_type": "code",
   "execution_count": null,
   "metadata": {},
   "outputs": [],
   "source": [
    "#ignore\n",
    "current_depth = 0\n",
    "depth = 4\n",
    "\n",
    "tree      = Tree(input_dim=784, output_dim=10)\n",
    "n_leaves  = 2 ** depth\n",
    "n_classes = 10\n",
    "n_epochs  = 40\n",
    "\n",
    "tree = sdt_init(current_depth , depth, tree, input_dim=784, output_dim=n_classes)\n",
    "\n",
    "# SDT\n",
    "sdt       = SDT(tree=tree, n_leaves=n_leaves, n_classes=n_classes)\n",
    "criterion = SDTLoss(lambda_=0.05)"
   ]
  },
  {
   "cell_type": "code",
   "execution_count": null,
   "metadata": {},
   "outputs": [],
   "source": [
    "#ignore\n",
    "learn = Learner(dls, \n",
    "                sdt, \n",
    "                loss_func=criterion, \n",
    "                opt_func=partial(SGD, lr=.2, mom=0.9), \n",
    "                cbs=SDTCallback(tree, n_leaves), \n",
    "                metrics=partial(accuracy_multi, sigmoid=False))"
   ]
  },
  {
   "cell_type": "code",
   "execution_count": null,
   "metadata": {},
   "outputs": [],
   "source": [
    "#ignore\n",
    "learn.fit_one_cycle(n_epoch=n_epochs)"
   ]
  },
  {
   "cell_type": "markdown",
   "metadata": {},
   "source": [
    "![training_loop](images/training_loop.png)"
   ]
  },
  {
   "cell_type": "markdown",
   "metadata": {},
   "source": [
    "## Learned Filters"
   ]
  },
  {
   "cell_type": "markdown",
   "metadata": {},
   "source": [
    "![learned_filters](images/learned_filters.png)"
   ]
  },
  {
   "cell_type": "code",
   "execution_count": null,
   "metadata": {},
   "outputs": [],
   "source": [
    ""
   ]
  }
 ],
 "metadata": {
  "kernelspec": {
   "display_name": "Python 3",
   "language": "python",
   "name": "python3"
  }
 },
 "nbformat": 4,
 "nbformat_minor": 0
}
