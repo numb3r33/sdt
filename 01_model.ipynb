{
 "cells": [
  {
   "cell_type": "markdown",
   "metadata": {},
   "source": [
    "# SDT\n",
    "\n",
    "Soft Decision Trees are trained with mini-batch gradient descent, where each inner node `i` has a learned filter $w_{i}$ and bias $b_{i}$, and each leaf node `l` has a learned distribution $Q_{l}$. At each node the probability of taking rightmost branch is: $$p_{i}(x) = \\sigma(xw_{i} + b_{i})$$\n",
    "\n",
    "where `x` is the input to the model and $\\sigma$ is the sigmoid logistic function."
   ]
  },
  {
   "cell_type": "markdown",
   "metadata": {},
   "source": [
    "![sdt](images/sdt.png)"
   ]
  },
  {
   "cell_type": "code",
   "execution_count": null,
   "metadata": {},
   "outputs": [],
   "source": [
    "# default_exp model"
   ]
  },
  {
   "cell_type": "code",
   "execution_count": null,
   "metadata": {},
   "outputs": [],
   "source": [
    "#hide\n",
    "IN_COLAB = 'google.colab' in str(get_ipython())\n",
    "if IN_COLAB:\n",
    "  !pip3 install -Uqq fastbook"
   ]
  },
  {
   "cell_type": "code",
   "execution_count": null,
   "metadata": {},
   "outputs": [
    {
     "name": "stdout",
     "output_type": "stream",
     "text": [
      "Mounted at /content/drive\n"
     ]
    }
   ],
   "source": [
    "#hide\n",
    "if IN_COLAB:\n",
    "  from google.colab import drive\n",
    "  drive.mount('/content/drive')"
   ]
  },
  {
   "cell_type": "code",
   "execution_count": null,
   "metadata": {},
   "outputs": [
    {
     "name": "stdout",
     "output_type": "stream",
     "text": [
      "/content/drive/My Drive/Colab Notebooks/github/sdt\n",
      "/content/drive/My Drive/Colab Notebooks/github/sdt\n"
     ]
    }
   ],
   "source": [
    "#hide\n",
    "if IN_COLAB:\n",
    "  from pathlib import Path\n",
    "  from nbdev.imports import Config\n",
    "  project_path = Path('/content/drive/My Drive/Colab Notebooks/github/sdt')\n",
    "  get_ipython().magic(f'cd {project_path}')\n",
    "  get_ipython().magic(f'cd {Config().nbs_path}')"
   ]
  },
  {
   "cell_type": "code",
   "execution_count": null,
   "metadata": {},
   "outputs": [],
   "source": [
    "#hide\n",
    "from nbdev.showdoc import *"
   ]
  },
  {
   "cell_type": "code",
   "execution_count": null,
   "metadata": {},
   "outputs": [],
   "source": [
    "#export\n",
    "from fastai.vision.all import *"
   ]
  },
  {
   "cell_type": "markdown",
   "metadata": {},
   "source": [
    "## Tree"
   ]
  },
  {
   "cell_type": "code",
   "execution_count": null,
   "metadata": {},
   "outputs": [],
   "source": [
    "#export\n",
    "class Tree(Module):\n",
    "  def __init__(self, input_dim=784, output_dim=10, type_='inner'):\n",
    "    super().__init__()\n",
    "\n",
    "    self.left  = None\n",
    "    self.right = None\n",
    "    self.type_ = type_\n",
    "    \n",
    "    self.input_dim  = input_dim\n",
    "    self.output_dim = output_dim \n",
    "\n",
    "    self.node_params()\n",
    "  \n",
    "  def node_params(self):\n",
    "    if self.type_ == 'inner': self.inner_node_params()\n",
    "    else: self.leaf_node_params()\n",
    "  \n",
    "  def forward(self, x):\n",
    "    if self.type_ == 'inner': return self.inner_node_forward(x)\n",
    "    else: return self.leaf_node_forward(x)\n",
    "  \n",
    "  def inner_node_params(self): \n",
    "    self.beta = nn.Parameter(torch.randn(1))\n",
    "    self.fc   = nn.Linear(self.input_dim, 1)\n",
    "    self.sigmoid = nn.Sigmoid()\n",
    "  \n",
    "  def leaf_node_params(self) : self.softmax, self.param = nn.Softmax(dim=1), nn.Parameter(torch.randn(self.output_dim))\n",
    "\n",
    "  def inner_node_forward(self, x): return self.sigmoid(self.beta*self.fc(x))\n",
    "  def leaf_node_forward(self, x) : return self.softmax(self.param.view(1, -1)).expand(x.shape[0], self.output_dim)"
   ]
  },
  {
   "cell_type": "code",
   "execution_count": null,
   "metadata": {},
   "outputs": [],
   "source": [
    "#export\n",
    "def sdt_init(current_depth, depth, tree, input_dim, output_dim):\n",
    "  if current_depth == depth - 1:\n",
    "    tree.left  = Tree(input_dim=input_dim, output_dim=output_dim, type_='leaf')\n",
    "    tree.right = Tree(input_dim=input_dim, output_dim=output_dim, type_='leaf') \n",
    "  else:\n",
    "    tree.left = Tree(input_dim=input_dim, output_dim=output_dim)\n",
    "    sdt_init(current_depth + 1, depth, tree.left, input_dim, output_dim)\n",
    "    tree.right = Tree(input_dim=input_dim, output_dim=output_dim)\n",
    "    sdt_init(current_depth + 1, depth, tree.right, input_dim, output_dim)\n",
    "  \n",
    "  return tree"
   ]
  },
  {
   "cell_type": "code",
   "execution_count": null,
   "metadata": {},
   "outputs": [],
   "source": [
    "#export\n",
    "class SDT(Module):\n",
    "  def __init__(self, tree, n_leaves, n_classes):\n",
    "    super().__init__()\n",
    "    \n",
    "    self.numers    = []\n",
    "    self.denoms    = []\n",
    "    self.lambdas   = []\n",
    "    self.path_prob = []\n",
    "    self.outs      = []\n",
    "\n",
    "    self.tree      = tree\n",
    "    self.n_leaves  = n_leaves\n",
    "    self.n_inner_nodes = n_leaves - 1\n",
    "    self.n_classes = n_classes\n",
    "  \n",
    "  def run(self, x, tree, prob, current_depth, index):\n",
    "    if tree.type_ == 'leaf':\n",
    "      self.path_prob.append(prob)\n",
    "      self.outs.append(tree.forward(x))\n",
    "    else:\n",
    "      left_prob = tree.forward(x)\n",
    "\n",
    "      self.numers.append(prob * left_prob)\n",
    "      self.denoms.append(prob)\n",
    "      \n",
    "      leaf_prob = self.run(x, \n",
    "                           tree.left, \n",
    "                           prob * left_prob, \n",
    "                           current_depth + 1, \n",
    "                           index + 1)\n",
    "      \n",
    "      right_prob = 1 - left_prob\n",
    "      leaf_prob  = self.run(x, \n",
    "                            tree.right, \n",
    "                            prob * right_prob, \n",
    "                            current_depth + 1, \n",
    "                            index + 2)\n",
    "\n",
    "  def forward(self, x):\n",
    "    x = x.view(x.shape[0], -1)\n",
    "    self.prob = torch.ones_like(x)[:, 0:1]\n",
    "    \n",
    "    self.run(x, self.tree, self.prob, current_depth=0, index=0)\n",
    "\n",
    "    self.path_prob  = torch.cat(self.path_prob).view(self.n_leaves, x.shape[0])\\\n",
    "                      .permute(1, 0)\n",
    "    self.outs       = torch.cat(self.outs).view(self.n_leaves, x.shape[0], self.n_classes)\\\n",
    "                      .permute(1, 0, 2)\n",
    "    \n",
    "    self.numers     = torch.cat(self.numers).view(self.n_inner_nodes, x.shape[0])\\\n",
    "                           .permute(1, 0)\n",
    "    self.denoms     = torch.cat(self.denoms).view(self.n_inner_nodes, x.shape[0])\\\n",
    "                           .permute(1, 0)\n",
    "    \n",
    "    return self.path_prob, self.outs\n",
    "\n",
    "  @property\n",
    "  def get_path_prob(self): return self.path_prob\n",
    "  @property\n",
    "  def get_outs(self)     : return self.outs\n",
    "  @property\n",
    "  def get_numers(self)   : return self.numers\n",
    "  @property\n",
    "  def get_denoms(self)   : return self.denoms\n",
    "\n",
    "  def reset(self):\n",
    "    self.path_prob = []\n",
    "    self.outs = []\n",
    "    self.numers = []\n",
    "    self.denoms = []"
   ]
  },
  {
   "cell_type": "markdown",
   "metadata": {},
   "source": [
    "##Export"
   ]
  },
  {
   "cell_type": "code",
   "execution_count": null,
   "metadata": {},
   "outputs": [
    {
     "name": "stdout",
     "output_type": "stream",
     "text": [
      "Converted 00_data.ipynb.\n",
      "Converted 01_model.ipynb.\n",
      "Converted 02_loss.ipynb.\n",
      "Converted 03_train.ipynb.\n",
      "Converted index.ipynb.\n"
     ]
    }
   ],
   "source": [
    "#hide\n",
    "from nbdev.export import notebook2script\n",
    "notebook2script()"
   ]
  }
 ],
 "metadata": {
  "kernelspec": {
   "display_name": "Python 3",
   "name": "python3"
  }
 },
 "nbformat": 4,
 "nbformat_minor": 0
}
